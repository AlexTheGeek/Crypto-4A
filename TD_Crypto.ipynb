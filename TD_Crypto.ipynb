{
 "cells": [
  {
   "cell_type": "code",
   "execution_count": null,
   "id": "hungarian-constitutional",
   "metadata": {},
   "outputs": [
    {
     "name": "stdout",
     "output_type": "stream",
     "text": [
      ">>>Exercice 10<<<\n"
     ]
    }
   ],
   "source": [
    "import sys\n",
    "from sage.all import *\n",
    "print(\">>>Exercice 10<<<\")"
   ]
  },
  {
   "cell_type": "code",
   "execution_count": 2,
   "id": "b610dcc2",
   "metadata": {},
   "outputs": [
    {
     "name": "stdout",
     "output_type": "stream",
     "text": [
      "2\n"
     ]
    }
   ],
   "source": [
    "# Fonction qui permet de générer un nombre aléatoire entre a et b\n",
    "a = 0\n",
    "b = 10\n",
    "r = randrange(a, b)\n",
    "print(r)"
   ]
  },
  {
   "cell_type": "code",
   "execution_count": 39,
   "id": "48721f2f",
   "metadata": {},
   "outputs": [
    {
     "name": "stdout",
     "output_type": "stream",
     "text": [
      "4\n"
     ]
    }
   ],
   "source": [
    "# Fonction qui retourne le pgcd de deux nombre a et b\n",
    "a = 96\n",
    "b = 4\n",
    "r = gcd(a,b)\n",
    "print(r)"
   ]
  },
  {
   "cell_type": "code",
   "execution_count": 41,
   "id": "e5812f91",
   "metadata": {},
   "outputs": [
    {
     "name": "stdout",
     "output_type": "stream",
     "text": [
      "1 2 -3\n"
     ]
    }
   ],
   "source": [
    "# Cette fonction permet de renvoyer en plus de la valeur du PGCD les coefficient de Bézout\n",
    "a = 50\n",
    "b = 33\n",
    "g, u, v = xgcd(a,b)\n",
    "print(g,u,v)"
   ]
  },
  {
   "cell_type": "code",
   "execution_count": 5,
   "id": "ef236327",
   "metadata": {},
   "outputs": [
    {
     "name": "stdout",
     "output_type": "stream",
     "text": [
      "4\n"
     ]
    }
   ],
   "source": [
    "# Renvoie la valeur de g^e mod n\n",
    "g = 10\n",
    "e = 2\n",
    "n = 24\n",
    "y = pow(g, e, n)\n",
    "print(y)"
   ]
  },
  {
   "cell_type": "code",
   "execution_count": 43,
   "id": "33228f75",
   "metadata": {},
   "outputs": [
    {
     "name": "stdout",
     "output_type": "stream",
     "text": [
      "True\n"
     ]
    }
   ],
   "source": [
    "# Savoir si un nombre est premier ou non (booléen)\n",
    "p = 13\n",
    "b = is_prime(p)\n",
    "print(b)"
   ]
  },
  {
   "cell_type": "code",
   "execution_count": 44,
   "id": "61e2be85",
   "metadata": {},
   "outputs": [
    {
     "name": "stdout",
     "output_type": "stream",
     "text": [
      "29\n"
     ]
    }
   ],
   "source": [
    "# Renvoie le prochain nombre premier supérieur à N\n",
    "n = 24\n",
    "print(next_prime(n))"
   ]
  },
  {
   "cell_type": "code",
   "execution_count": 45,
   "id": "09b7716c",
   "metadata": {
    "scrolled": true
   },
   "outputs": [
    {
     "data": {
      "text/plain": [
       "2 * 3^3"
      ]
     },
     "execution_count": 45,
     "metadata": {},
     "output_type": "execute_result"
    }
   ],
   "source": [
    "# Renvoie le produit de facteurs premier de N\n",
    "n = 54\n",
    "factor(n)"
   ]
  },
  {
   "cell_type": "code",
   "execution_count": 9,
   "id": "68929a64",
   "metadata": {},
   "outputs": [
    {
     "name": "stdout",
     "output_type": "stream",
     "text": [
      ">>>Exercice 11<<<\n"
     ]
    }
   ],
   "source": [
    "# Exercice 11\n",
    "print(\">>>Exercice 11<<<\")"
   ]
  },
  {
   "cell_type": "code",
   "execution_count": 10,
   "id": "91a440f6",
   "metadata": {},
   "outputs": [],
   "source": [
    "def my_gcd(a, b):\n",
    "    while (b != 0):\n",
    "        tmp = b\n",
    "        b = a % b\n",
    "        a = tmp\n",
    "    return a"
   ]
  },
  {
   "cell_type": "code",
   "execution_count": 11,
   "id": "427f46d3",
   "metadata": {},
   "outputs": [
    {
     "name": "stdout",
     "output_type": "stream",
     "text": [
      "1er test\n",
      "GCD de (10,134) : 2\n",
      "my_GCD de (10,134) : 2\n",
      "2eme test\n",
      "GCD de (1,13) : 1\n",
      "my_GCD de (1,13) : 1\n",
      "3eme test\n",
      "GCD de (13,42) : 1\n",
      "my_GCD de (13,42) : 1\n"
     ]
    }
   ],
   "source": [
    "# Test de la fonction my_gcd et gcd\n",
    "a = 10\n",
    "b = 134\n",
    "print(\"1er test\")\n",
    "print(\"GCD de (\"+str(a)+\",\"+str(b)+\") : \"+str(gcd(a,b)))\n",
    "print(\"my_GCD de (\"+str(a)+\",\"+str(b)+\") : \"+str(my_gcd(a,b)))\n",
    "\n",
    "a = 1\n",
    "b = 13\n",
    "print(\"2eme test\")\n",
    "print(\"GCD de (\"+str(a)+\",\"+str(b)+\") : \"+str(gcd(a,b)))\n",
    "print(\"my_GCD de (\"+str(a)+\",\"+str(b)+\") : \"+str(my_gcd(a,b)))\n",
    "\n",
    "a = 13 \n",
    "b = 42\n",
    "print(\"3eme test\")\n",
    "print(\"GCD de (\"+str(a)+\",\"+str(b)+\") : \"+str(gcd(a,b)))\n",
    "print(\"my_GCD de (\"+str(a)+\",\"+str(b)+\") : \"+str(my_gcd(a,b)))\n",
    "\n"
   ]
  },
  {
   "cell_type": "code",
   "execution_count": 46,
   "id": "d5081091",
   "metadata": {},
   "outputs": [],
   "source": [
    "def my_xgcd(a, b):\n",
    "    x0, x1, y0, y1 = 1, 0, 0, 1\n",
    "    while b != 0:\n",
    "        q, a, b = a // b, b, a % b\n",
    "        x0, x1 = x1, x0 - q * x1\n",
    "        y0, y1 = y1, y0 - q * y1\n",
    "    return a, x0, y0"
   ]
  },
  {
   "cell_type": "code",
   "execution_count": 47,
   "id": "074c3767",
   "metadata": {},
   "outputs": [
    {
     "name": "stdout",
     "output_type": "stream",
     "text": [
      "1er test\n",
      "XGC de (10,134) : (2, 27, -2)\n",
      "my_XGCD de (10,134) : (2, 27, -2)\n",
      "2eme test\n",
      "XGCD de (1,13) : (1, 1, 0)\n",
      "my_XGCD de (1,13) : (1, 1, 0)\n",
      "3eme test\n",
      "XGCD de (13,42) : (1, 13, -4)\n",
      "my_XGCD de (13,42) : (1, 13, -4)\n"
     ]
    }
   ],
   "source": [
    "# Test de la fonction my_xgcd et xgcd\n",
    "a = 10\n",
    "b = 134\n",
    "print(\"1er test\")\n",
    "print(\"XGC de (\"+str(a)+\",\"+str(b)+\") : \"+str(xgcd(a,b)))\n",
    "print(\"my_XGCD de (\"+str(a)+\",\"+str(b)+\") : \"+str(my_xgcd(a,b)))\n",
    "\n",
    "a = 1\n",
    "b = 13\n",
    "print(\"2eme test\")\n",
    "print(\"XGCD de (\"+str(a)+\",\"+str(b)+\") : \"+str(xgcd(a,b)))\n",
    "print(\"my_XGCD de (\"+str(a)+\",\"+str(b)+\") : \"+str(my_xgcd(a,b)))\n",
    "\n",
    "a = 13 \n",
    "b = 42\n",
    "print(\"3eme test\")\n",
    "print(\"XGCD de (\"+str(a)+\",\"+str(b)+\") : \"+str(xgcd(a,b)))\n",
    "print(\"my_XGCD de (\"+str(a)+\",\"+str(b)+\") : \"+str(my_xgcd(a,b)))"
   ]
  },
  {
   "cell_type": "code",
   "execution_count": 14,
   "id": "5bd2e152",
   "metadata": {},
   "outputs": [],
   "source": [
    "def my_pow(g,e,n):\n",
    "    r = 1\n",
    "    for i in range(e):\n",
    "        r *= g\n",
    "    r %=modulo\n",
    "    return r"
   ]
  },
  {
   "cell_type": "code",
   "execution_count": 51,
   "id": "better-injury",
   "metadata": {},
   "outputs": [
    {
     "name": "stdout",
     "output_type": "stream",
     "text": [
      "1er test\n",
      "POW de (0,2) : 0\n",
      "my_POW de (0,2) : 0\n",
      "2eme test\n",
      "POW de (1,13) : 1\n",
      "my_POW de (1,13) : 1\n",
      "3eme test\n",
      "POW de (13,42) : 1\n",
      "my_POW de (13,42) : 1\n"
     ]
    }
   ],
   "source": [
    "# Test de la fonction my_pow et pow\n",
    "a = 0\n",
    "b = 2\n",
    "modulo = 2\n",
    "print(\"1er test\")\n",
    "print(\"POW de (\"+str(a)+\",\"+str(b)+\") : \"+str(pow(a,b,modulo)))\n",
    "print(\"my_POW de (\"+str(a)+\",\"+str(b)+\") : \"+str(my_pow(a,b,modulo)))\n",
    "\n",
    "a = 1\n",
    "b = 13\n",
    "modulo = 5\n",
    "print(\"2eme test\")\n",
    "print(\"POW de (\"+str(a)+\",\"+str(b)+\") : \"+str(pow(a,b,modulo)))\n",
    "print(\"my_POW de (\"+str(a)+\",\"+str(b)+\") : \"+str(my_pow(a,b,modulo)))\n",
    "\n",
    "a = 13 \n",
    "b = 42\n",
    "modulo = 6\n",
    "print(\"3eme test\")\n",
    "print(\"POW de (\"+str(a)+\",\"+str(b)+\") : \"+str(pow(a,b,modulo)))\n",
    "print(\"my_POW de (\"+str(a)+\",\"+str(b)+\") : \"+str(my_pow(a,b,modulo)))"
   ]
  },
  {
   "cell_type": "code",
   "execution_count": 58,
   "id": "convenient-engineer",
   "metadata": {},
   "outputs": [],
   "source": [
    "def my_pow_exo11(g, e, m):\n",
    "    r = 1\n",
    "    while e > 0:\n",
    "        if e % 2 == 1:\n",
    "            r = (r * g) % m\n",
    "        e = e // 2\n",
    "        g = (g * g) % m\n",
    "    return r"
   ]
  },
  {
   "cell_type": "code",
   "execution_count": 59,
   "id": "laughing-eugene",
   "metadata": {},
   "outputs": [
    {
     "name": "stdout",
     "output_type": "stream",
     "text": [
      "1er test\n",
      "POW de (0,2) : 0\n",
      "my_POW de (0,2) : 0\n",
      "2eme test\n",
      "POW de (1,13) : 1\n",
      "my_POW de (1,13) : 1\n",
      "3eme test\n",
      "POW de (13,42) : 1\n",
      "my_POW de (13,42) : 1\n"
     ]
    }
   ],
   "source": [
    "# Test de la fonction my_pow_exo11 et pow\n",
    "a = 0\n",
    "b = 2\n",
    "modulo = 2\n",
    "print(\"1er test\")\n",
    "print(\"POW de (\"+str(a)+\",\"+str(b)+\") : \"+str(pow(a,b,modulo)))\n",
    "print(\"my_POW de (\"+str(a)+\",\"+str(b)+\") : \"+str(my_pow_exo11(a,b,modulo)))\n",
    "\n",
    "a = 1\n",
    "b = 13\n",
    "modulo = 5\n",
    "print(\"2eme test\")\n",
    "print(\"POW de (\"+str(a)+\",\"+str(b)+\") : \"+str(pow(a,b,modulo)))\n",
    "print(\"my_POW de (\"+str(a)+\",\"+str(b)+\") : \"+str(my_pow_exo11(a,b,modulo)))\n",
    "\n",
    "a = 13 \n",
    "b = 42\n",
    "modulo = 6\n",
    "print(\"3eme test\")\n",
    "print(\"POW de (\"+str(a)+\",\"+str(b)+\") : \"+str(pow(a,b,modulo)))\n",
    "print(\"my_POW de (\"+str(a)+\",\"+str(b)+\") : \"+str(my_pow_exo11(a,b,modulo)))"
   ]
  },
  {
   "cell_type": "code",
   "execution_count": 16,
   "id": "adjusted-arthritis",
   "metadata": {},
   "outputs": [],
   "source": [
    "def my_is_prime(number):\n",
    "    if number < 2:\n",
    "        return False\n",
    "    diviser = 2\n",
    "    while diviser < number:\n",
    "        if (number % diviser == 0):\n",
    "            return False\n",
    "        diviser += 1 \n",
    "    return True"
   ]
  },
  {
   "cell_type": "code",
   "execution_count": 17,
   "id": "cultural-circulation",
   "metadata": {},
   "outputs": [
    {
     "name": "stdout",
     "output_type": "stream",
     "text": [
      "1er test\n",
      "is_prime de (1) : False\n",
      "my_is_prime de (1) : False\n",
      "2eme test\n",
      "is_prime de (0) : False\n",
      "my_is_prime de (0) : False\n",
      "3eme test\n",
      "is_prime de (113) : True\n",
      "my_is_prime de (113) : True\n"
     ]
    }
   ],
   "source": [
    "# Test de la fonction my_is_prime et is_prime\n",
    "a = 1\n",
    "print(\"1er test\")\n",
    "print(\"is_prime de (\"+str(a)+\") : \"+str(is_prime(a)))\n",
    "print(\"my_is_prime de (\"+str(a)+\") : \"+str(my_is_prime(a)))\n",
    "\n",
    "a = 0\n",
    "print(\"2eme test\")\n",
    "print(\"is_prime de (\"+str(a)+\") : \"+str(is_prime(a)))\n",
    "print(\"my_is_prime de (\"+str(a)+\") : \"+str(my_is_prime(a)))\n",
    "\n",
    "a = 113\n",
    "print(\"3eme test\")\n",
    "print(\"is_prime de (\"+str(a)+\") : \"+str(is_prime(a)))\n",
    "print(\"my_is_prime de (\"+str(a)+\") : \"+str(my_is_prime(a)))"
   ]
  },
  {
   "cell_type": "code",
   "execution_count": 60,
   "id": "broken-applicant",
   "metadata": {},
   "outputs": [],
   "source": [
    "def is_prime_fermat(n):\n",
    "    if n < 2:\n",
    "        return False\n",
    "    base = randrange(2, n-2) #ici correspond on choisit une base inférieur au nombre, nous pourrions aussi la spécifier en passant un paramètre avec 2,3,5,7\n",
    "    if pow(base, n-1, n) != 1:\n",
    "        return False\n",
    "    return True"
   ]
  },
  {
   "cell_type": "code",
   "execution_count": 61,
   "id": "developmental-panama",
   "metadata": {},
   "outputs": [
    {
     "name": "stdout",
     "output_type": "stream",
     "text": [
      "1er test\n",
      "is_prime de (1) : False\n",
      "my_is_prime de (1) : False\n",
      "2eme test\n",
      "is_prime de (0) : False\n",
      "my_is_prime de (0) : False\n",
      "3eme test\n",
      "is_prime de (113) : True\n",
      "my_is_prime de (113) : True\n"
     ]
    }
   ],
   "source": [
    "# Test de la fonction my_is_prime et is_prime\n",
    "a = 1\n",
    "print(\"1er test\")\n",
    "print(\"is_prime de (\"+str(a)+\") : \"+str(is_prime(a)))\n",
    "print(\"my_is_prime de (\"+str(a)+\") : \"+str(is_prime_fermat(a)))\n",
    "\n",
    "a = 0\n",
    "print(\"2eme test\")\n",
    "print(\"is_prime de (\"+str(a)+\") : \"+str(is_prime(a)))\n",
    "print(\"my_is_prime de (\"+str(a)+\") : \"+str(is_prime_fermat(a)))\n",
    "\n",
    "a = 113\n",
    "print(\"3eme test\")\n",
    "print(\"is_prime de (\"+str(a)+\") : \"+str(is_prime(a)))\n",
    "print(\"my_is_prime de (\"+str(a)+\") : \"+str(is_prime_fermat(a)))"
   ]
  },
  {
   "cell_type": "code",
   "execution_count": 18,
   "id": "opposite-today",
   "metadata": {},
   "outputs": [],
   "source": [
    "def my_next_prime(p):\n",
    "    p += 1\n",
    "    while not my_is_prime(p):\n",
    "        p += 1\n",
    "    return p"
   ]
  },
  {
   "cell_type": "code",
   "execution_count": 19,
   "id": "excess-terrorist",
   "metadata": {},
   "outputs": [
    {
     "name": "stdout",
     "output_type": "stream",
     "text": [
      "1er test\n",
      "next_prime de (1) : 2\n",
      "my_is_prime de (1) : 2\n",
      "2eme test\n",
      "next_prime de (5) : 7\n",
      "my_next_prime de (5) : 7\n",
      "3eme test\n",
      "next_prime de (127) : 131\n",
      "my_next_prime de (127) : 131\n"
     ]
    }
   ],
   "source": [
    "# Test de la fonction my_next_prime et next_prime\n",
    "a = 1\n",
    "print(\"1er test\")\n",
    "print(\"next_prime de (\"+str(a)+\") : \"+str(next_prime(a)))\n",
    "print(\"my_is_prime de (\"+str(a)+\") : \"+str(my_next_prime(a)))\n",
    "\n",
    "a = 5\n",
    "print(\"2eme test\")\n",
    "print(\"next_prime de (\"+str(a)+\") : \"+str(next_prime(a)))\n",
    "print(\"my_next_prime de (\"+str(a)+\") : \"+str(my_next_prime(a)))\n",
    "\n",
    "a = 127\n",
    "print(\"3eme test\")\n",
    "print(\"next_prime de (\"+str(a)+\") : \"+str(next_prime(a)))\n",
    "print(\"my_next_prime de (\"+str(a)+\") : \"+str(my_next_prime(a)))"
   ]
  },
  {
   "cell_type": "code",
   "execution_count": 20,
   "id": "buried-theme",
   "metadata": {},
   "outputs": [
    {
     "name": "stdout",
     "output_type": "stream",
     "text": [
      ">>>Exercice 12<<<\n"
     ]
    }
   ],
   "source": [
    "# Exercice 12\n",
    "print(\">>>Exercice 12<<<\")"
   ]
  },
  {
   "cell_type": "code",
   "execution_count": 21,
   "id": "broken-average",
   "metadata": {},
   "outputs": [],
   "source": [
    "import time\n",
    "def test_factor() :\n",
    "    l = 8 # Nombre de base\n",
    "    while(l <= 111) : # On commence une boucle while de l pour aller jusqu'à 111 inlcus\n",
    "        rq = randrange(2, 2**l) # on choisit un nombre random entre 2 et 2^l\n",
    "        q = next_prime(rq) # On récupère le prochain nombre premier du random précédent, on le stocke dans q\n",
    "        rp = randrange(2, 2**l) # rp pareil que le rq\n",
    "        p = next_prime(rp) # p pareil que le q\n",
    "        N = p * q # On réalise la multiplication entre p et q pour obtenir N\n",
    "        start = time.time() # on récupère l'heure de début\n",
    "        factor(N) # on calcule le produit de facteurs premier de N grâce à la fonction factor\n",
    "        stop = time.time() # on récupère l'heure de fin de l'exécution de factor\n",
    "        print(l, (stop - start) * 10^6) # on affiche le nombre l puis le temps mis par factor\n",
    "        l = l + 1 # incrémentation de l pour aller jusqu'à 111\n"
   ]
  },
  {
   "cell_type": "code",
   "execution_count": 22,
   "id": "dietary-depth",
   "metadata": {
    "scrolled": true
   },
   "outputs": [
    {
     "name": "stdout",
     "output_type": "stream",
     "text": [
      "8 32.66334533691406\n",
      "9 15.974044799804688\n",
      "10 10.967254638671875\n",
      "11 10.251998901367188\n",
      "12 19.788742065429688\n",
      "13 13.589859008789062\n",
      "14 9.775161743164062\n",
      "15 17.642974853515625\n",
      "16 210.28518676757812\n",
      "17 29.325485229492188\n",
      "18 28.371810913085938\n",
      "19 28.371810913085938\n",
      "20 29.087066650390625\n",
      "21 25.510787963867188\n",
      "22 135.89859008789062\n",
      "23 76.53236389160156\n",
      "24 41.961669921875\n",
      "25 209.33151245117188\n",
      "26 536.9186401367188\n",
      "27 137.3291015625\n",
      "28 137.56752014160156\n",
      "29 334.73968505859375\n",
      "30 250.5779266357422\n",
      "31 1333.2366943359375\n",
      "32 371.2177276611328\n",
      "33 8304.119110107422\n",
      "34 877.38037109375\n",
      "35 850.9159088134766\n",
      "36 1036.1671447753906\n",
      "37 1064.5389556884766\n",
      "38 1244.7834014892578\n",
      "39 1222.372055053711\n",
      "40 3060.8177185058594\n",
      "41 1153.2306671142578\n",
      "42 1189.2318725585938\n",
      "43 1611.2327575683594\n",
      "44 1664.876937866211\n",
      "45 1531.1241149902344\n",
      "46 2088.0699157714844\n",
      "47 2107.6202392578125\n",
      "48 2475.0232696533203\n",
      "49 1965.0459289550781\n",
      "50 3312.1109008789062\n",
      "51 4667.758941650391\n",
      "52 4978.418350219727\n",
      "53 4569.530487060547\n",
      "54 4376.649856567383\n",
      "55 5803.823471069336\n",
      "56 7277.727127075195\n",
      "57 7205.963134765625\n",
      "58 8650.541305541992\n",
      "59 9843.587875366211\n",
      "60 10966.300964355469\n",
      "61 10889.768600463867\n",
      "62 16044.61669921875\n",
      "63 11246.204376220703\n",
      "64 17911.195755004883\n",
      "65 28517.723083496094\n",
      "66 29797.077178955078\n",
      "67 27135.133743286133\n",
      "68 26997.089385986328\n",
      "69 47977.20909118652\n",
      "70 40968.894958496094\n",
      "71 82325.69694519043\n",
      "72 74202.5375366211\n",
      "73 82755.80406188965\n",
      "74 90493.67904663086\n",
      "75 117597.34153747559\n",
      "76 89876.41334533691\n",
      "77 121371.03080749512\n",
      "78 131344.79522705078\n",
      "79 173042.05894470215\n",
      "80 222173.69079589844\n",
      "81 311743.25942993164\n",
      "82 325079.44107055664\n",
      "83 245674.61013793945\n",
      "84 274304.6283721924\n",
      "85 294300.3177642822\n",
      "86 499513.1492614746\n",
      "87 522307.8727722168\n",
      "88 420015.3350830078\n",
      "89 435817.7185058594\n",
      "90 689332.7236175537\n",
      "91 993594.1696166992\n",
      "92 1043093.204498291\n",
      "93 1568735.8379364014\n",
      "94 1538098.0968475342\n",
      "95 1547886.848449707\n",
      "96 1966050.386428833\n",
      "97 2616686.8209838867\n",
      "98 2460623.025894165\n",
      "99 2674448.7285614014\n",
      "100 3358870.029449463\n",
      "101 2514559.507369995\n",
      "102 4428931.713104248\n",
      "103 5899278.163909912\n",
      "104 4061466.932296753\n",
      "105 7005809.545516968\n",
      "106 7499226.331710815\n",
      "107 8013773.441314697\n",
      "108 9031960.487365723\n",
      "109 13419514.894485474\n",
      "110 11588740.110397339\n",
      "111 15925978.660583496\n"
     ]
    }
   ],
   "source": [
    "test_factor()"
   ]
  },
  {
   "cell_type": "code",
   "execution_count": 62,
   "id": "competent-negative",
   "metadata": {},
   "outputs": [],
   "source": [
    "import time\n",
    "import matplotlib.pyplot as plt\n",
    "import math\n",
    "def test_factor_2() :\n",
    "    l = 8 \n",
    "    numbers = []\n",
    "    temps = []\n",
    "    while(l <= 111) : \n",
    "        rq = randrange(2, 2**l) \n",
    "        q = next_prime(rq) \n",
    "        rp = randrange(2, 2**l) \n",
    "        p = next_prime(rp) \n",
    "        N = p * q \n",
    "        numbers.append(int(math.log2(N))+1)\n",
    "        start = time.time()\n",
    "        factor(N)\n",
    "        stop = time.time() \n",
    "        temps.append((stop - start) * 10^6)\n",
    "        print(l, N, (stop - start) * 10^6)\n",
    "        l = l + 1 \n",
    "\n",
    "        \n",
    "    numbers, temps = zip(*sorted(zip(numbers, temps)))\n",
    "    plt.plot(numbers, temps)\n",
    "\n",
    "    plt.xlabel(\"Longueur en bit des nombres\")\n",
    "    plt.ylabel(\"Temps d'exécution\")\n",
    "    plt.title(\"Temps d'exécution en fonction de la longueur en bit des nombres\")\n",
    "    plt.show()\n",
    "        \n",
    "    with open(\"data.dat\", \"w\") as file:\n",
    "        for (numbers, temps) in zip(numbers, temps):\n",
    "            file.write(\"{} {}\\n\".format(numbers, temps))\n",
    "    \n",
    "\n",
    "    \n",
    " "
   ]
  },
  {
   "cell_type": "code",
   "execution_count": 63,
   "id": "thick-installation",
   "metadata": {
    "scrolled": false
   },
   "outputs": [
    {
     "name": "stdout",
     "output_type": "stream",
     "text": [
      "8 9797 50.78315734863281\n",
      "9 227429 14.066696166992188\n",
      "10 265103 9.775161743164062\n",
      "11 3027551 10.728836059570312\n",
      "12 9754853 11.205673217773438\n",
      "13 40159879 13.3514404296875\n",
      "14 211244321 17.1661376953125\n",
      "15 295152743 17.404556274414062\n",
      "16 457628257 20.265579223632812\n",
      "17 330523421 13.589859008789062\n",
      "18 17020442603 34.809112548828125\n",
      "19 51531796931 42.67692565917969\n",
      "20 186513782831 28.133392333984375\n",
      "21 271575592669 57.93571472167969\n",
      "22 4754135126287 44.345855712890625\n",
      "23 3589522855693 45.7763671875\n",
      "24 22244128036213 101.80473327636719\n",
      "25 366456021746809 254.63104248046875\n",
      "26 290398262927411 104.18891906738281\n",
      "27 2594147466732839 139.9517059326172\n",
      "28 1400500411467257 201.94053649902344\n",
      "29 68477435472697843 1141.3097381591797\n",
      "30 289739641347218551 144.2432403564453\n",
      "31 1159241372704179599 259.8762512207031\n",
      "32 2408971967720671621 142.57431030273438\n",
      "33 37922886198226904981 1344.442367553711\n",
      "34 241919986533414837413 1366.3768768310547\n",
      "35 528334091920302978803 1319.1699981689453\n",
      "36 291450280140050524459 1315.8321380615234\n",
      "37 3053198107301651718919 1630.7830810546875\n",
      "38 24700775183397156794087 1375.9136199951172\n",
      "39 17725141842156501212267 1207.590103149414\n",
      "40 19652218677775986883481 1404.5238494873047\n",
      "41 919858502676786018043039 1845.5982208251953\n",
      "42 450284851197885012358927 1682.7583312988281\n",
      "43 3360894742095087991966873 1888.7519836425781\n",
      "44 195481363648426732534574801 2290.2488708496094\n",
      "45 674455829178727932804452183 3109.9319458007812\n",
      "46 2782907491579150698363174829 2837.4195098876953\n",
      "47 3598902086645097497053045459 3116.607666015625\n",
      "48 722133918431632287824957617 3036.7374420166016\n",
      "49 822960825935478377812404539 2834.320068359375\n",
      "50 43980870665977377645990176599 3768.9208984375\n",
      "51 319484086041783973492180243207 3843.069076538086\n",
      "52 1358965406110530370537741751957 4647.016525268555\n",
      "53 33514413878693115201995342060687 6945.371627807617\n",
      "54 9705715870936468101702894765203 7833.957672119141\n",
      "55 473016903921368210856812706081557 8789.300918579102\n",
      "56 255042795312655208229545857913627 7995.128631591797\n",
      "57 1697119034358815673244802568774133 11119.842529296875\n",
      "58 42645376959745818680793602212110287 11724.710464477539\n",
      "59 26046463606380324423467477708170163 11902.332305908203\n",
      "60 317259087882050762851624628993362619 12704.133987426758\n",
      "61 52234485253721007894241928465812387 11512.517929077148\n",
      "62 548109213908877309141015252343069967 15178.442001342773\n",
      "63 6273918035937971643596599682752896791 22903.4423828125\n",
      "64 124127629785161240751355856920102666369 20245.075225830078\n",
      "65 74748779885770855447547886333848009059 22729.39682006836\n",
      "66 781382802489772638108317210667903287539 33400.29716491699\n",
      "67 2456445474366309231213980023384160389523 38325.54817199707\n",
      "68 1293249886012741914081476661161887960073 31497.478485107422\n",
      "69 14848298340708763828015919547890280050219 46602.96440124512\n",
      "70 302015624865168348128365603084653098827379 59251.78527832031\n",
      "71 4073960813904299863701159146350491278489923 106598.1388092041\n",
      "72 8466698671618040611513070563880391159343513 105228.90090942383\n",
      "73 40520265694910424100572370296115851190024561 109751.93977355957\n",
      "74 48830681591125691850034432188389211157196281 115386.4860534668\n",
      "75 609807389313911472234273585809464973189183573 114292.86003112793\n",
      "76 52186905091343396402329667726498132417374349 100223.54125976562\n",
      "77 9486309972738621085090819423512091382726286493 172165.8706665039\n",
      "78 18532570343050183882854482157302101275082472611 168015.2416229248\n",
      "79 268607734553511978564009200032590445833763341889 244454.38385009766\n",
      "80 31970744261010103182055501884285133882379727487 218607.90252685547\n",
      "81 2800334635898035138881787666394812590119852240021 332515.7165527344\n",
      "82 293095946027023374805712564638266617259799829003 253175.2586364746\n",
      "83 2335049797065039137053102050037324524725735457487 283486.60469055176\n",
      "84 5101533870201895696304311965348462472680454882987 300099.13444519043\n",
      "85 382734516441635782584881291990336702716272022975141 474744.0814971924\n",
      "86 733105037007378787769808267820295715731928126710819 505336.9998931885\n",
      "87 668257219021155147385728768634584650012540121811439 487959.623336792\n",
      "88 976395041054711472719900808292660685778567230584397 459702.4917602539\n",
      "89 114493355501337492784443313252250878935514242972628021 838001.012802124\n",
      "90 5476421426090015304866814686856849289027419607049221 696254.7302246094\n",
      "91 1081288925524088857279313373698544864746342514310162673 1135961.7710113525\n",
      "92 9506264063283773137743895851197332788414818816566308271 1147855.520248413\n",
      "93 1200739415962792511813372890195509212896371166254762359 1134481.66847229\n",
      "94 25758488156955329403500952816327141426009661854435496523 1271611.4521026611\n",
      "95 142791122188618394331692472625012650545830119312103740221 1738021.8505859375\n",
      "96 360817234656139835791553962868889990956156088707077169273 1776939.6305084229\n",
      "97 1040850934798386906192935419065579535186409003260205452589 1772409.9159240723\n",
      "98 59963168180643256733514009128685280497671450672976740087513 3235453.8440704346\n",
      "99 98562951345214729562648511148655748910168450225242602660879 4003419.1608428955\n",
      "100 338497289691955906528490680407751488000211646226988366404781 3355332.374572754\n",
      "101 2752699116801436582793294344780144773898548962484726907144441 3783184.52835083\n",
      "102 6786331035121089998091339421246606383784863559882973649184111 4969397.306442261\n",
      "103 51377142709626136151611836130985053882018454323135366264522219 6542260.646820068\n",
      "104 3812154519952950426814449130031984233668356235714054995437297 4699537.992477417\n",
      "105 61624118873093592509022955859936467168643428315617462918983171 6791994.81010437\n",
      "106 1488586734045975036307665014224073977402578324838232606187824249 8460008.382797241\n",
      "107 11446862884404289899419659432766072539070928252484171024289994253 11430772.304534912\n",
      "108 9900422146099096469669237736076661895499127062584892991955157553 9652052.640914917\n",
      "109 41565893753021111541310328333889100164724697647965579904971758123 9934933.185577393\n",
      "110 626982726295242728696898102211255827267702176785405659334298453989 15838914.632797241\n",
      "111 1218175719043329481409087215636546721545436872354147237071932288129 16874000.310897827\n"
     ]
    },
    {
     "data": {
      "image/png": "[encoded data removed]",
      "text/plain": [
       "<Figure size 432x288 with 1 Axes>"
      ]
     },
     "metadata": {
      "needs_background": "light"
     },
     "output_type": "display_data"
    }
   ],
   "source": [
    "test_factor_2()"
   ]
  },
  {
   "cell_type": "code",
   "execution_count": 25,
   "id": "entitled-founder",
   "metadata": {},
   "outputs": [],
   "source": [
    "# Faire la question C"
   ]
  },
  {
   "cell_type": "code",
   "execution_count": 26,
   "id": "uniform-healing",
   "metadata": {},
   "outputs": [
    {
     "name": "stdout",
     "output_type": "stream",
     "text": [
      ">>>Exercice 13<<<\n"
     ]
    }
   ],
   "source": [
    "# Exercice 13\n",
    "print(\">>>Exercice 13<<<\")"
   ]
  },
  {
   "cell_type": "code",
   "execution_count": 68,
   "id": "angry-coordinate",
   "metadata": {},
   "outputs": [],
   "source": [
    "def rsa_gen(l):\n",
    "    p = randrange(2**(l-1),2**l-1)\n",
    "    while not is_prime(p):\n",
    "        p = randrange(2**(l-1),2**l-1)\n",
    "    \n",
    "    q = randrange(2**(l-1),2**l-1)\n",
    "    while not is_prime(q):\n",
    "        q = randrange(2**(l-1),2**l-1)\n",
    "        \n",
    "    N = p*q\n",
    "    phi = (p-1)*(q-1)\n",
    "    \n",
    "    \n",
    "    e = randrange(0,phi)\n",
    "    while not (is_prime(e) and gcd(e,phi) == 1):\n",
    "        e = randrange(0,phi)\n",
    "    \n",
    "    g, d, k = xgcd(e,phi)\n",
    "    \n",
    "    \n",
    "    return e,N,d"
   ]
  },
  {
   "cell_type": "code",
   "execution_count": 69,
   "id": "legitimate-probability",
   "metadata": {},
   "outputs": [],
   "source": [
    "def rsa_enc(e,N,M):\n",
    "    encrypted_message = [pow(ord(m), e, N) for m in M]\n",
    "    return encrypted_message"
   ]
  },
  {
   "cell_type": "code",
   "execution_count": 70,
   "id": "incoming-today",
   "metadata": {},
   "outputs": [],
   "source": [
    "def rsa_dec(d,N,C):\n",
    "    decrypted_message = [chr(pow(c,int(d),N)) for c in C]\n",
    "    return ''.join(decrypted_message)"
   ]
  },
  {
   "cell_type": "code",
   "execution_count": 71,
   "id": "emerging-thread",
   "metadata": {},
   "outputs": [
    {
     "name": "stdout",
     "output_type": "stream",
     "text": [
      "7463382898647642444724216880449791836469225654630076972863972859358193911023795759904436622197076858121870164061793222642503511067326649431103574211904942042521654582379604611168315796258188383473371082182302326339020460162527711765479036128339209222461705776253553006137236978748856644197420393493830136581\n",
      "129078509251559252500792660877443142949544658986589773122583035592305549709044200735014922619028444882145921893164706959736455191108939176229339312950870064976131671406432912488660182739439553985206932188511159299550754799181433393269493268293641624848496825952691511787568366485976425692751336966093576587149\n",
      "-14262066617423812114378916895814089146165992397473451124021982391169113469959291265266697218649930750809600477726616495634959641760368267420374352146950329508675417997116025453471197189585020845720753881373114155806701209471124970314743824872017862617650968729719122831461797201331449469277143688578461352879\n"
     ]
    }
   ],
   "source": [
    "l = 512\n",
    "message = \"Hello World!\"\n",
    "\n",
    "e,N,d = rsa_gen(l)\n",
    "print(\"{}\\n{}\\n{}\".format(e,N,d))"
   ]
  },
  {
   "cell_type": "code",
   "execution_count": 72,
   "id": "serious-panel",
   "metadata": {},
   "outputs": [
    {
     "name": "stdout",
     "output_type": "stream",
     "text": [
      "[91481803229473054237038942700887166420265496137252762163777744639283789755580423846722810859756238854787739995615416879132464554030065986489110712719714858270027905669920741220892012170383421908649795445527977600127933753107773387339459435257667063347122264279545373973089123662498746643560659453634368013906, 12116033861186019902124016253874628113785985715497386381961771844526082211700909980581732525888920802706196015266386947095026274048825562127711137007898788780898829226577039770241312027681478989772177800535261427126036882829950536316705729008042425793516035315384808831279842604203117339091977452843396212578, 97019586153260667386908556889879113736580936402749659746693704880489291048662996811118229380130391354219739442151819092095257140674926718066083081896851507043253471149292086403406716525380289319558355317894012892237808232710513265547924261281095701422940819940476939520529237023677196981034299320269756749968, 97019586153260667386908556889879113736580936402749659746693704880489291048662996811118229380130391354219739442151819092095257140674926718066083081896851507043253471149292086403406716525380289319558355317894012892237808232710513265547924261281095701422940819940476939520529237023677196981034299320269756749968, 92417722140018293805119424341860120686458381589006384718089802544211555821639006237261423467077696648387671891459610244327449212493415247588981405985874092803773077747855311177408132338081394696596890542360178962383616745138432973891077485940506437074304503585692130385569981738574766343708693021604389894718, 112598392745784333500901846619734177990516926095507807148461822549170131596407206327726397890819433064782150231394566691373364815456873132469198178154049463122565633609026391211355107499222256432368445695780745751567832347277535310371671468786881218065835795176038007872683435536917882792533942376141865060253, 7582597215929236683112861088257111586588688140584634670792225316935269552237780966721267436433130508198103279841967965501009961070657514404407466453898228111935177457846504426922242768063451073778668899478847643514902797601792300225676224354276789767469056018513750606244200997935764292855045618539510718389, 92417722140018293805119424341860120686458381589006384718089802544211555821639006237261423467077696648387671891459610244327449212493415247588981405985874092803773077747855311177408132338081394696596890542360178962383616745138432973891077485940506437074304503585692130385569981738574766343708693021604389894718, 20343142561096298148548692224719739150650102883826465575751348165777733095757270455380335638517943019274524192148739626426591902649863086865646873143224884052630446031505206472210007291205016295617577459533372681137228843079636241464074702495114742180280994146791552976765765198040646066255000580710095169748, 97019586153260667386908556889879113736580936402749659746693704880489291048662996811118229380130391354219739442151819092095257140674926718066083081896851507043253471149292086403406716525380289319558355317894012892237808232710513265547924261281095701422940819940476939520529237023677196981034299320269756749968, 89013985462016228506972041463749039888025072825068741942762335163821174540903628421686799780710185117112267322105669855338753644986385802270805817535027849910310677416938255276649160502767677021216672793702231690542184424934225524860897229127456619042463717109177182977710136159164015548119768000155833096514, 86980001645843247088818597188486084144790275289992511877152793000045971362735569780876707880371133001345339100005184101059978024141003194073599389904532166710604100824461308504644551416383961961592125174795179048217093123111191515495462313396439103921249763680257350172038120451298856310365061230345651593092]\n"
     ]
    }
   ],
   "source": [
    "enc_message = rsa_enc(e,N,message)\n",
    "print(enc_message)"
   ]
  },
  {
   "cell_type": "code",
   "execution_count": 38,
   "id": "residential-equivalent",
   "metadata": {},
   "outputs": [
    {
     "name": "stdout",
     "output_type": "stream",
     "text": [
      "Hello World!\n"
     ]
    }
   ],
   "source": [
    "dec_message = rsa_dec(d,N,enc_message)\n",
    "print(dec_message)"
   ]
  },
  {
   "cell_type": "code",
   "execution_count": null,
   "id": "11cd870f",
   "metadata": {},
   "outputs": [],
   "source": [
    "# Exercice 14, a)\n",
    "def eg_set(l) :\n",
    "    q = randrange(2**(l-1),2**l-1)\n",
    "    while not is_prime(q):\n",
    "        q = randrange(2**(l-1),2**l-1)\n",
    "    p = 2*q + 1\n",
    "    while not is_prime(p):\n",
    "        q = randrange(2**(l-1),2**l-1)\n",
    "        p = 2*q + 1\n",
    "    g = randrange(2,p)\n",
    "    while not is_prime(g):\n",
    "        g = randrange(2,p)\n",
    "    return q,p,g\n",
    "\n",
    "\n",
    "\n",
    "# Exercice 14, b)\n",
    "def eg_gen(q, p, g):\n",
    "    sk = random_prime(2, q)\n",
    "    pk = g^sk\n",
    "    return (sk, pk)\n",
    "\n",
    "# Exercice 14, c)\n",
    "def eg_enc(q,p,g,pk,M) :\n",
    "    k = random_prime(2, q)\n",
    "    c1 = g^k\n",
    "    c2 = pk^k * M\n",
    "    return (c1,c2)\n",
    "\n",
    "# Exercice 14, d)\n",
    "def eg_dec(q, p, g, sk, C) :\n",
    "    c1 = C[0]\n",
    "    c2 = C[1]\n",
    "    return c2 * c1^(-sk)\n",
    "\n",
    "\n",
    "# Exercice 14, e)\n",
    "l = 512\n",
    "\n",
    "q,p,g = eg_set(l)\n",
    "print(\"{}\\n{}\\n{}\".format(q,p,g))\n",
    "\n",
    "sk,pk = eg_gen(q,p,g)\n",
    "\n",
    "message = \"Hello World!\"\n",
    "syfer = eg_enc(q,p,g,pk,message)\n",
    "print(syfer)\n",
    "\n",
    "decrytped_message = eg_dec(q,p,g,sk,syfer)\n",
    "print(decrytped_message)"
   ]
  }
 ],
 "metadata": {
  "kernelspec": {
   "display_name": "Python 3",
   "language": "python",
   "name": "python3"
  },
  "language_info": {
   "codemirror_mode": {
    "name": "ipython",
    "version": 3
   },
   "file_extension": ".py",
   "mimetype": "text/x-python",
   "name": "python",
   "nbconvert_exporter": "python",
   "pygments_lexer": "ipython3",
   "version": "3.11.1 (tags/v3.11.1:a7a450f, Dec  6 2022, 19:58:39) [MSC v.1934 64 bit (AMD64)]"
  },
  "vscode": {
   "interpreter": {
    "hash": "22b6aa23ebdb95c31771a605332d65b96d6e70a70a8e5cf021766a53e709a3c7"
   }
  }
 },
 "nbformat": 4,
 "nbformat_minor": 5
}
